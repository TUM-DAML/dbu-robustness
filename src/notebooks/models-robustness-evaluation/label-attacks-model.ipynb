{
 "cells": [
  {
   "cell_type": "code",
   "execution_count": 1,
   "metadata": {},
   "outputs": [
    {
     "name": "stdout",
     "output_type": "stream",
     "text": [
      "/nfs/homedirs/charpent/dbu-robustness/src/notebooks/models-robustness-evaluation\n"
     ]
    }
   ],
   "source": [
    "from src.foolbox.run import run\n",
    "from src.foolbox.run_median_smoothing import run as run_ms"
   ]
  },
  {
   "cell_type": "code",
   "execution_count": 2,
   "metadata": {},
   "outputs": [],
   "source": [
    "id_dataset_name='MNIST'\n",
    "ood_dataset_name='KMNIST'\n",
    "\n",
    "## Model parameters\n",
    "directory_model='../saved-models/best-MNIST-postnet/'\n",
    "name_model='model-dpn-322-MNIST-[0.8, 0.2]-322-conv-[28, 28, 1]-10-[64, 64, 64]-5-6-False-radial_flow-6-None-id-200-10-2-64-0.0001-UCE-joint-1e-06'\n",
    "model_type='postnet'\n",
    "\n",
    "# directory_model='../saved-models/best-MNIST-revkl-priornet/'\n",
    "# name_model='model-klpn-322-MNIST-[0.8, 0.2]-322-conv-[28, 28, 1]-10-[64, 64, 64]-5-None-200-10-2-64-5e-05-Reverse_KL_in_out-FMNIST'\n",
    "# model_type='rev_kl_priornet'\n",
    "\n",
    "# directory_model='../saved-models/best-MNIST-evnet/'\n",
    "# name_model='model-evn-322-MNIST-[0.8, 0.2]-322-conv-[28, 28, 1]-10-[64, 64, 64]-5-None-200-10-2-64-0.001-UMSE'\n",
    "# model_type='evnet'\n",
    "\n",
    "# directory_model='../saved-models/best-MNIST-ddnet/'\n",
    "# name_model='model-ddn-322-MNIST-[0.8, 0.2]-322-conv-[28, 28, 1]-10-[64, 64, 64]-5-None-5-200-10-2-64-0.0005-Dir-LL'\n",
    "# model_type='ddnet'\n",
    "\n",
    "## Attack parameters\n",
    "directory_results='../saved-results/'\n",
    "attack_name= 'PGD_L2'\n",
    "# attack_name='FGSM_L2'\n",
    "# attack_name='Gaussian_L2_Noise' \n",
    "magnitude=2.0\n",
    "attack_loss='crossentropy'\n",
    "punished_measure=None\n",
    "start_data='in'\n",
    "bounds= [0, 1]"
   ]
  },
  {
   "cell_type": "markdown",
   "metadata": {},
   "source": [
    "# Attack"
   ]
  },
  {
   "cell_type": "code",
   "execution_count": 3,
   "metadata": {},
   "outputs": [
    {
     "name": "stderr",
     "output_type": "stream",
     "text": [
      "2021-06-09 09:48:29 (INFO): Received the following configuration:\n",
      "2021-06-09 09:48:29 (INFO): DATASET | dataset_name MNIST - ood_dataset_name KMNIST\n",
      "2021-06-09 09:48:29 (INFO): ARCHITECTURE |  directory_model ../saved-models/best-MNIST-postnet/ -  name_model model-dpn-322-MNIST-[0.8, 0.2]-322-conv-[28, 28, 1]-10-[64, 64, 64]-5-6-False-radial_flow-6-None-id-200-10-2-64-0.0001-UCE-joint-1e-06 -  model_type postnet\n",
      "2021-06-09 09:48:29 (INFO): TRAINING |  attack_name PGD_L2 -  magnitude 2.0 -  attack_loss crossentropy -  punished_measure None -  start_data in -  bounds [0, 1]\n"
     ]
    },
    {
     "data": {
      "text/plain": [
       "{'result_path': '../saved-results/54737282',\n",
       " 'fail_trace': <function seml.evaluation.get_results(db_collection_name, fields=None, to_data_frame=False, mongodb_config=None, states=None, filter_dict=None, parallel=False)>,\n",
       " 'alpha_0': array(34494696., dtype=float32),\n",
       " 'clean_alpha_0': array(41246770., dtype=float32),\n",
       " 'accuracy': array(0.53),\n",
       " 'confidence_aleatoric': 0.4586713685957984,\n",
       " 'confidence_epistemic': 0.40252051784089526,\n",
       " 'confidence_diff_entropy': 0.45358192800822955,\n",
       " 'confidence_dist_uncertainty': 0.40664133440063666,\n",
       " 'brier_score': array(0.67456853, dtype=float32),\n",
       " 'attack_detection_aleatoric_apr': 0.7796158518567409,\n",
       " 'attack_detection_epistemic_apr': 0.7720517343141138,\n",
       " 'attack_detection_diff_entropy_apr': 0.7683248809978632,\n",
       " 'attack_detection_dist_uncertainty_apr': 0.7245412671629428,\n",
       " 'ood_aleatoric_apr': 0.7410197567863205,\n",
       " 'ood_epistemic_apr': 0.6313943093393437,\n",
       " 'diff_entropy_apr': 0.662991089551644,\n",
       " 'dist_uncertainty_apr': 0.5456522372333337,\n",
       " 'ood_aleatoric_auroc': 0.7259,\n",
       " 'ood_epistemic_auroc': 0.5575,\n",
       " 'diff_entropy_auroc': 0.6258999999999999,\n",
       " 'dist_uncertainty_auroc': 0.5308}"
      ]
     },
     "execution_count": 3,
     "metadata": {},
     "output_type": "execute_result"
    }
   ],
   "source": [
    "run(\n",
    "    # Dataset parameters\n",
    "    id_dataset_name,  # in-dataset name.  string\n",
    "    ood_dataset_name,  # out-dataset name.  string\n",
    "\n",
    "    # Model parameters\n",
    "    directory_model,  # Directory of the model. string\n",
    "    name_model,  # Model name. string\n",
    "    model_type,  # Model type. string\n",
    "\n",
    "    # Attack parameters\n",
    "    directory_results,  # Directory to store attacks . string\n",
    "    attack_name,  # Attack name. string\n",
    "    magnitude,  # Magnitude of attacks. float\n",
    "    attack_loss,  # Name of attacked loss. string\n",
    "    punished_measure,  # Name of punished measure. string\n",
    "    start_data,  # Data which is attacked (either ID or OOD dataset). string 'in' or 'out'\n",
    "    bounds, # Bounds for the input values. list\n",
    "    n_attacked_data=100)  # Number of attacked data in the test set. int"
   ]
  },
  {
   "cell_type": "markdown",
   "metadata": {},
   "source": [
    "# Median Smoothing + Attack"
   ]
  },
  {
   "cell_type": "code",
   "execution_count": 4,
   "metadata": {
    "scrolled": false
   },
   "outputs": [
    {
     "name": "stderr",
     "output_type": "stream",
     "text": [
      "2021-06-09 09:48:52 (INFO): Received the following configuration:\n",
      "2021-06-09 09:48:52 (INFO): DATASET | dataset_name MNIST - ood_dataset_name KMNIST\n",
      "2021-06-09 09:48:52 (INFO): ARCHITECTURE |  directory_model ../saved-models/best-MNIST-postnet/ -  name_model model-dpn-322-MNIST-[0.8, 0.2]-322-conv-[28, 28, 1]-10-[64, 64, 64]-5-6-False-radial_flow-6-None-id-200-10-2-64-0.0001-UCE-joint-1e-06 -  model_type postnet\n",
      "2021-06-09 09:48:52 (INFO): TRAINING |  attack_name PGD_L2 -  magnitude 2.0 -  attack_loss crossentropy -  punished_measure None -  start_data in -  bounds [0, 1]\n"
     ]
    },
    {
     "data": {
      "text/plain": [
       "{'result_path': '../saved-results/54737282',\n",
       " 'fail_trace': <function seml.evaluation.get_results(db_collection_name, fields=None, to_data_frame=False, mongodb_config=None, states=None, filter_dict=None, parallel=False)>,\n",
       " 'accuracy': array(0.54),\n",
       " 'wc_confidence_auroc': 0.0,\n",
       " 'wc_confidence_apr': 0.343486064887746,\n",
       " 'm_confidence_auroc': 0.47966988727858295,\n",
       " 'm_confidence_apr': 0.5013003056175886,\n",
       " 'bc_confidence_auroc': 1.0,\n",
       " 'bc_confidence_apr': 0.9999999999999999,\n",
       " 'l_confidence_auroc': 0.5684380032206119,\n",
       " 'l_confidence_apr': 0.5910463819822782,\n",
       " 'u_confidence_auroc': 0.4963768115942028,\n",
       " 'u_confidence_apr': 0.5254371298748405,\n",
       " 'wc_attack_detection_auroc': 0.0,\n",
       " 'wc_attack_detection_apr': 0.30934656951817574,\n",
       " 'm_attack_detection_auroc': 0.42975,\n",
       " 'm_attack_detection_apr': 0.4390576300156867,\n",
       " 'bc_attack_detection_auroc': 1.0,\n",
       " 'bc_attack_detection_apr': 1.0,\n",
       " 'l_attack_detection_auroc': 0.4507,\n",
       " 'l_attack_detection_apr': 0.4512636942830749,\n",
       " 'u_attack_detection_auroc': 0.46130000000000004,\n",
       " 'u_attack_detection_apr': 0.458150066642373,\n",
       " 'wc_ood_auroc': 0.0,\n",
       " 'wc_ood_apr': 0.30955713014366093,\n",
       " 'm_ood_auroc': 0.5935,\n",
       " 'm_ood_apr': 0.6788070947914959,\n",
       " 'bc_ood_auroc': 1.0,\n",
       " 'bc_ood_apr': 1.0,\n",
       " 'l_ood_auroc': 0.56605,\n",
       " 'l_ood_apr': 0.6287651690409798,\n",
       " 'u_ood_auroc': 0.6453,\n",
       " 'u_ood_apr': 0.716718851727043}"
      ]
     },
     "execution_count": 4,
     "metadata": {},
     "output_type": "execute_result"
    }
   ],
   "source": [
    "run_ms(\n",
    "    # Dataset parameters\n",
    "    id_dataset_name,  # in-dataset name.  string\n",
    "    ood_dataset_name,  # out-dataset name.  string\n",
    "\n",
    "    # Model parameters\n",
    "    directory_model,  # Directory of the model. string\n",
    "    name_model,  # Model name. string\n",
    "    model_type,  # Model type. string\n",
    "\n",
    "    # Attack parameters\n",
    "    directory_results,  # Directory to store attacks . string\n",
    "    attack_name,  # Attack name. string\n",
    "    magnitude,  # Magnitude of attacks. float\n",
    "    attack_loss,  # Name of attacked loss. string\n",
    "    punished_measure,  # Name of punished measure. string\n",
    "    start_data, # Data which is attacked (either ID or OOD dataset). string 'in' or 'out'\n",
    "    bounds, # Bounds for the input values. list\n",
    "    n_attacked_data=100) # Number of attacked data in the test set. int"
   ]
  },
  {
   "cell_type": "code",
   "execution_count": null,
   "metadata": {},
   "outputs": [],
   "source": []
  }
 ],
 "metadata": {
  "kernelspec": {
   "display_name": "Python 3",
   "language": "python",
   "name": "python3"
  },
  "language_info": {
   "codemirror_mode": {
    "name": "ipython",
    "version": 3
   },
   "file_extension": ".py",
   "mimetype": "text/x-python",
   "name": "python",
   "nbconvert_exporter": "python",
   "pygments_lexer": "ipython3",
   "version": "3.6.10"
  }
 },
 "nbformat": 4,
 "nbformat_minor": 4
}
