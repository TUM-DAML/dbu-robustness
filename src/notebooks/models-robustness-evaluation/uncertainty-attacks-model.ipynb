{
 "cells": [
  {
   "cell_type": "code",
   "execution_count": 1,
   "metadata": {},
   "outputs": [
    {
     "name": "stdout",
     "output_type": "stream",
     "text": [
      "/nfs/homedirs/charpent/dbu-robustness/src/notebooks/models-robustness-evaluation\n"
     ]
    }
   ],
   "source": [
    "from src.foolbox.run import run\n",
    "from src.foolbox.run_median_smoothing import run as run_ms"
   ]
  },
  {
   "cell_type": "code",
   "execution_count": 2,
   "metadata": {},
   "outputs": [],
   "source": [
    "id_dataset_name='MNIST'\n",
    "ood_dataset_name='KMNIST'\n",
    "\n",
    "## Model parameters\n",
    "directory_model='../saved-models/best-MNIST-postnet/'\n",
    "name_model='model-dpn-322-MNIST-[0.8, 0.2]-322-conv-[28, 28, 1]-10-[64, 64, 64]-5-6-False-radial_flow-6-None-id-200-10-2-64-0.0001-UCE-joint-1e-06'\n",
    "model_type='postnet'\n",
    "\n",
    "# directory_model='../saved-models/best-MNIST-revkl-priornet/'\n",
    "# name_model='model-klpn-322-MNIST-[0.8, 0.2]-322-conv-[28, 28, 1]-10-[64, 64, 64]-5-None-200-10-2-64-5e-05-Reverse_KL_in_out-FMNIST'\n",
    "# model_type='rev_kl_priornet'\n",
    "\n",
    "# directory_model='../saved-models/best-MNIST-evnet/'\n",
    "# name_model='model-evn-322-MNIST-[0.8, 0.2]-322-conv-[28, 28, 1]-10-[64, 64, 64]-5-None-200-10-2-64-0.001-UMSE'\n",
    "# model_type='evnet'\n",
    "\n",
    "# directory_model='../saved-models/best-MNIST-ddnet/'\n",
    "# name_model='model-ddn-322-MNIST-[0.8, 0.2]-322-conv-[28, 28, 1]-10-[64, 64, 64]-5-None-5-200-10-2-64-0.0005-Dir-LL'\n",
    "# model_type='ddnet'\n",
    "\n",
    "## Attack parameters\n",
    "directory_results='../saved-results/'\n",
    "attack_name= 'PGD_L2'\n",
    "# attack_name='FGSM_L2'\n",
    "# attack_name='Gaussian_L2_Noise' \n",
    "magnitude=2.0\n",
    "attack_loss='diffE'\n",
    "punished_measure=None\n",
    "start_data='in'\n",
    "#start_data='out'\n",
    "bounds= [0, 1]"
   ]
  },
  {
   "cell_type": "markdown",
   "metadata": {},
   "source": [
    "# Attack"
   ]
  },
  {
   "cell_type": "code",
   "execution_count": 3,
   "metadata": {},
   "outputs": [
    {
     "name": "stderr",
     "output_type": "stream",
     "text": [
      "2021-06-09 11:26:51 (INFO): Received the following configuration:\n",
      "2021-06-09 11:26:51 (INFO): DATASET | dataset_name MNIST - ood_dataset_name KMNIST\n",
      "2021-06-09 11:26:51 (INFO): ARCHITECTURE |  directory_model ../saved-models/best-MNIST-postnet/ -  name_model model-dpn-322-MNIST-[0.8, 0.2]-322-conv-[28, 28, 1]-10-[64, 64, 64]-5-6-False-radial_flow-6-None-id-200-10-2-64-0.0001-UCE-joint-1e-06 -  model_type postnet\n",
      "2021-06-09 11:26:51 (INFO): TRAINING |  attack_name PGD_L2 -  magnitude 2.0 -  attack_loss diffE -  punished_measure None -  start_data in -  bounds [0, 1]\n"
     ]
    },
    {
     "data": {
      "text/plain": [
       "{'result_path': '../saved-results/67755149',\n",
       " 'fail_trace': <function seml.evaluation.get_results(db_collection_name, fields=None, to_data_frame=False, mongodb_config=None, states=None, filter_dict=None, parallel=False)>,\n",
       " 'alpha_0': array(39295.555, dtype=float32),\n",
       " 'clean_alpha_0': array(41246772., dtype=float32),\n",
       " 'accuracy': array(0.83),\n",
       " 'confidence_aleatoric': 0.9598808354152961,\n",
       " 'confidence_epistemic': 0.9579251640908925,\n",
       " 'confidence_diff_entropy': 0.9588583240392816,\n",
       " 'confidence_dist_uncertainty': 0.938979246175568,\n",
       " 'brier_score': array(0.48591575, dtype=float32),\n",
       " 'attack_detection_aleatoric_apr': 0.9975539181825159,\n",
       " 'attack_detection_epistemic_apr': 0.9973561745065973,\n",
       " 'attack_detection_diff_entropy_apr': 0.9505484063904565,\n",
       " 'attack_detection_dist_uncertainty_apr': 0.8698815265449897,\n",
       " 'ood_aleatoric_apr': 0.4632069397123471,\n",
       " 'ood_epistemic_apr': 0.38814945515800414,\n",
       " 'diff_entropy_apr': 0.43182536098079466,\n",
       " 'dist_uncertainty_apr': 0.4004494238738221,\n",
       " 'ood_aleatoric_auroc': 0.40969999999999995,\n",
       " 'ood_epistemic_auroc': 0.2892,\n",
       " 'diff_entropy_auroc': 0.3801,\n",
       " 'dist_uncertainty_auroc': 0.2905}"
      ]
     },
     "execution_count": 3,
     "metadata": {},
     "output_type": "execute_result"
    }
   ],
   "source": [
    "run(\n",
    "    # Dataset parameters\n",
    "    id_dataset_name,  # in-dataset name.  string\n",
    "    ood_dataset_name,  # out-dataset name.  string\n",
    "\n",
    "    # Model parameters\n",
    "    directory_model,  # Directory of the model. string\n",
    "    name_model,  # Model name. string\n",
    "    model_type,  # Model type. string\n",
    "\n",
    "    # Attack parameters\n",
    "    directory_results,  # Directory to store attacks . string\n",
    "    attack_name,  # Attack name. string\n",
    "    magnitude,  # Magnitude of attacks. float\n",
    "    attack_loss,  # Name of attacked loss. string\n",
    "    punished_measure,  # Name of punished measure. string\n",
    "    start_data,\n",
    "    bounds,\n",
    "    n_attacked_data=100)"
   ]
  },
  {
   "cell_type": "markdown",
   "metadata": {},
   "source": [
    "# Median Smoothing + Attack"
   ]
  },
  {
   "cell_type": "code",
   "execution_count": 4,
   "metadata": {
    "scrolled": false
   },
   "outputs": [
    {
     "name": "stderr",
     "output_type": "stream",
     "text": [
      "2021-06-09 09:59:25 (INFO): Received the following configuration:\n",
      "2021-06-09 09:59:25 (INFO): DATASET | dataset_name MNIST - ood_dataset_name KMNIST\n",
      "2021-06-09 09:59:25 (INFO): ARCHITECTURE |  directory_model ../saved-models/best-MNIST-postnet/ -  name_model model-dpn-322-MNIST-[0.8, 0.2]-322-conv-[28, 28, 1]-10-[64, 64, 64]-5-6-False-radial_flow-6-None-id-200-10-2-64-0.0001-UCE-joint-1e-06 -  model_type postnet\n",
      "2021-06-09 09:59:25 (INFO): TRAINING |  attack_name PGD_L2 -  magnitude 2.0 -  attack_loss diffE -  punished_measure None -  start_data in -  bounds [0, 1]\n"
     ]
    },
    {
     "data": {
      "text/plain": [
       "{'result_path': '../saved-results/68222609',\n",
       " 'fail_trace': <function seml.evaluation.get_results(db_collection_name, fields=None, to_data_frame=False, mongodb_config=None, states=None, filter_dict=None, parallel=False)>,\n",
       " 'accuracy': array(0.8),\n",
       " 'wc_confidence_auroc': 0.0,\n",
       " 'wc_confidence_apr': 0.602715059499051,\n",
       " 'm_confidence_auroc': 0.4362499999999999,\n",
       " 'm_confidence_apr': 0.7486019994329096,\n",
       " 'bc_confidence_auroc': 1.0,\n",
       " 'bc_confidence_apr': 0.9999999999999997,\n",
       " 'l_confidence_auroc': 0.40406249999999994,\n",
       " 'l_confidence_apr': 0.7677347826367037,\n",
       " 'u_confidence_auroc': 0.41093749999999996,\n",
       " 'u_confidence_apr': 0.7621954506554225,\n",
       " 'wc_attack_detection_auroc': 0.0,\n",
       " 'wc_attack_detection_apr': 0.3094286062833007,\n",
       " 'm_attack_detection_auroc': 0.4383,\n",
       " 'm_attack_detection_apr': 0.44677655357436297,\n",
       " 'bc_attack_detection_auroc': 0.9999999999999999,\n",
       " 'bc_attack_detection_apr': 1.0,\n",
       " 'l_attack_detection_auroc': 0.45949999999999996,\n",
       " 'l_attack_detection_apr': 0.4686919525154073,\n",
       " 'u_attack_detection_auroc': 0.46115,\n",
       " 'u_attack_detection_apr': 0.4537633400904835,\n",
       " 'wc_ood_auroc': 0.0,\n",
       " 'wc_ood_apr': 0.30947192943488633,\n",
       " 'm_ood_auroc': 0.5911000000000001,\n",
       " 'm_ood_apr': 0.6767792372124066,\n",
       " 'bc_ood_auroc': 1.0,\n",
       " 'bc_ood_apr': 1.0,\n",
       " 'l_ood_auroc': 0.5715,\n",
       " 'l_ood_apr': 0.5981336076185191,\n",
       " 'u_ood_auroc': 0.6456,\n",
       " 'u_ood_apr': 0.7095667023852421}"
      ]
     },
     "execution_count": 4,
     "metadata": {},
     "output_type": "execute_result"
    }
   ],
   "source": [
    "run_ms(\n",
    "    # Dataset parameters\n",
    "    id_dataset_name,  # in-dataset name.  string\n",
    "    ood_dataset_name,  # out-dataset name.  string\n",
    "\n",
    "    # Model parameters\n",
    "    directory_model,  # Directory of the model. string\n",
    "    name_model,  # Model name. string\n",
    "    model_type,  # Model type. string\n",
    "\n",
    "    # Attack parameters\n",
    "    directory_results,  # Directory to store attacks . string\n",
    "    attack_name,  # Attack name. string\n",
    "    magnitude,  # Magnitude of attacks. float\n",
    "    attack_loss,  # Name of attacked loss. string\n",
    "    punished_measure,  # Name of punished measure. string\n",
    "    start_data, # \n",
    "    bounds, # Bounds for the input values. list\n",
    "    n_attacked_data=100) # Number of attacked data in the test set. int"
   ]
  },
  {
   "cell_type": "code",
   "execution_count": null,
   "metadata": {},
   "outputs": [],
   "source": []
  }
 ],
 "metadata": {
  "kernelspec": {
   "display_name": "Python 3",
   "language": "python",
   "name": "python3"
  },
  "language_info": {
   "codemirror_mode": {
    "name": "ipython",
    "version": 3
   },
   "file_extension": ".py",
   "mimetype": "text/x-python",
   "name": "python",
   "nbconvert_exporter": "python",
   "pygments_lexer": "ipython3",
   "version": "3.6.10"
  }
 },
 "nbformat": 4,
 "nbformat_minor": 4
}
