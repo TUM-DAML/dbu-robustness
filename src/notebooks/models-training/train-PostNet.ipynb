{
 "cells": [
  {
   "cell_type": "code",
   "execution_count": 1,
   "metadata": {},
   "outputs": [
    {
     "name": "stdout",
     "output_type": "stream",
     "text": [
      "/nfs/homedirs/charpent/dbu-robustness/src/notebooks/models-training\n"
     ]
    }
   ],
   "source": [
    "import torch\n",
    "from src.models.posterior_networks.run import run"
   ]
  },
  {
   "cell_type": "code",
   "execution_count": 2,
   "metadata": {},
   "outputs": [
    {
     "name": "stdout",
     "output_type": "stream",
     "text": [
      "CUDA Available:  True\n"
     ]
    }
   ],
   "source": [
    "use_cuda=True\n",
    "print(\"CUDA Available: \",torch.cuda.is_available())\n",
    "device = torch.device(\"cuda\" if (use_cuda and torch.cuda.is_available()) else \"cpu\")"
   ]
  },
  {
   "cell_type": "markdown",
   "metadata": {},
   "source": [
    "# Standard Training"
   ]
  },
  {
   "cell_type": "code",
   "execution_count": 3,
   "metadata": {},
   "outputs": [],
   "source": [
    "# Dataset parameters\n",
    "seed_dataset=123\n",
    "dataset_name='MNIST'\n",
    "ood_dataset_names=['KMNIST', 'FMNIST']\n",
    "split=[.8, .2]\n",
    "\n",
    "# Architecture parameters\n",
    "seed_model=123\n",
    "directory_model='../saved-models'\n",
    "architecture='conv'\n",
    "input_dims=[28, 28, 1]\n",
    "output_dim=10\n",
    "hidden_dims=[64, 64, 64]\n",
    "kernel_dim=5\n",
    "latent_dim=6\n",
    "no_density=False\n",
    "density_type='radial_flow'\n",
    "n_density=6\n",
    "k_lipschitz=None\n",
    "budget_function='id'\n",
    "\n",
    "# Training parameters\n",
    "directory_results='../saved-results'\n",
    "max_epochs=10\n",
    "patience=5\n",
    "frequency=2\n",
    "batch_size=64\n",
    "lr=5e-5\n",
    "loss='UCE'\n",
    "training_mode='joint'\n",
    "regr=1e-5\n",
    "adversarial_training = None\n",
    "rs_sigma = None"
   ]
  },
  {
   "cell_type": "code",
   "execution_count": 4,
   "metadata": {
    "scrolled": false
   },
   "outputs": [
    {
     "name": "stderr",
     "output_type": "stream",
     "text": [
      "2021-06-08 16:18:31 (INFO): Received the following configuration:\n",
      "2021-06-08 16:18:31 (INFO): DATASET | seed_dataset 123 - dataset_name MNIST - ood_dataset_names ['KMNIST', 'FMNIST'] - split [0.8, 0.2]\n",
      "2021-06-08 16:18:31 (INFO): ARCHITECTURE |  seed_model 123 -  architecture conv -  input_dims [28, 28, 1] -  output_dim 10 -  hidden_dims [64, 64, 64] -  kernel_dim 5 -  latent_dim 6 -  no_density False -  density_type radial_flow -  n_density 6 -  k_lipschitz None -  budget_function id\n",
      "2021-06-08 16:18:31 (INFO): TRAINING |  max_epochs 10 -  patience 5 -  frequency 2 -  batch_size 64 -  lr 5e-05 -  loss UCE -  training_mode joint -  regr 1e-05\n",
      "750it [01:54,  6.56it/s]\n",
      "0it [00:00, ?it/s]"
     ]
    },
    {
     "name": "stdout",
     "output_type": "stream",
     "text": [
      "Epoch 0 -> Val loss 1.793 | Val Acc.: 0.46\n",
      "Model saved\n"
     ]
    },
    {
     "name": "stderr",
     "output_type": "stream",
     "text": [
      "750it [01:52,  6.67it/s]\n",
      "750it [01:47,  6.99it/s]\n",
      "0it [00:00, ?it/s]"
     ]
    },
    {
     "name": "stdout",
     "output_type": "stream",
     "text": [
      "Epoch 2 -> Val loss 1.265 | Val Acc.: 0.708\n",
      "Model saved\n"
     ]
    },
    {
     "name": "stderr",
     "output_type": "stream",
     "text": [
      "750it [01:45,  7.13it/s]\n",
      "750it [01:44,  7.16it/s]\n",
      "1it [00:00,  6.29it/s]"
     ]
    },
    {
     "name": "stdout",
     "output_type": "stream",
     "text": [
      "Epoch 4 -> Val loss 0.76 | Val Acc.: 0.87\n",
      "Model saved\n"
     ]
    },
    {
     "name": "stderr",
     "output_type": "stream",
     "text": [
      "750it [02:15,  5.52it/s]\n",
      "750it [02:12,  5.66it/s]\n",
      "0it [00:00, ?it/s]"
     ]
    },
    {
     "name": "stdout",
     "output_type": "stream",
     "text": [
      "Epoch 6 -> Val loss 0.4 | Val Acc.: 0.981\n",
      "Model saved\n"
     ]
    },
    {
     "name": "stderr",
     "output_type": "stream",
     "text": [
      "750it [02:15,  5.52it/s]\n",
      "750it [02:15,  5.53it/s]\n",
      "1it [00:00,  6.48it/s]"
     ]
    },
    {
     "name": "stdout",
     "output_type": "stream",
     "text": [
      "Epoch 8 -> Val loss 0.206 | Val Acc.: 0.987\n",
      "Model saved\n"
     ]
    },
    {
     "name": "stderr",
     "output_type": "stream",
     "text": [
      "750it [02:19,  5.37it/s]\n"
     ]
    }
   ],
   "source": [
    "results = run(\n",
    "        # Dataset parameters\n",
    "        seed_dataset,  # Seed to shuffle dataset. int\n",
    "        dataset_name,  # Dataset name. string\n",
    "        ood_dataset_names,  # OOD dataset names.  list of strings\n",
    "        split,  # Split for train/val/test sets. list of floats\n",
    "\n",
    "        # Architecture parameters\n",
    "        seed_model,  # Seed to init model. int\n",
    "        directory_model,  # Path to save model. string\n",
    "        architecture,  # Encoder architecture name. string\n",
    "        input_dims,  # Input dimension. List of ints\n",
    "        output_dim,  # Output dimension. int\n",
    "        hidden_dims,  # Hidden dimensions. list of ints\n",
    "        kernel_dim,  # Input dimension. int\n",
    "        latent_dim,  # Latent dimension. int\n",
    "        no_density,  # Use density estimation or not. boolean\n",
    "        density_type,  # Density type. string\n",
    "        n_density,  # Number of density components. int\n",
    "        k_lipschitz,  # Lipschitz constant. float or None (if no lipschitz)\n",
    "        budget_function,  # Budget function name applied on class count. name\n",
    "\n",
    "\n",
    "        # Training parameters\n",
    "        directory_results,  # Path to save resutls. string\n",
    "        max_epochs,  # Maximum number of epochs for training\n",
    "        patience,  # Patience for early stopping. int\n",
    "        frequency,  # Frequency for early stopping test. int\n",
    "        batch_size,  # Batch size. int\n",
    "        lr,  # Learning rate. float\n",
    "        loss,  # Loss name. string\n",
    "        training_mode,  # 'joint' or 'sequential' training. string\n",
    "        regr,  # Regularization factor in Bayesian loss. float\n",
    "\n",
    "        adversarial_training,  # adversarial training\n",
    "        rs_sigma,  # rs training\n",
    ")"
   ]
  },
  {
   "cell_type": "code",
   "execution_count": 5,
   "metadata": {},
   "outputs": [
    {
     "data": {
      "text/plain": [
       "{'model_path': '../saved-models/model-dpn-123-MNIST-[0.8, 0.2]-123-conv-[28, 28, 1]-10-[64, 64, 64]-5-6-False-radial_flow-6-None-id-10-5-2-64-5e-05-UCE-joint-1e-05-None-None',\n",
       " 'result_path': '../saved-results/results-dpn-123-MNIST-[0.8, 0.2]-123-conv-[28, 28, 1]-10-[64, 64, 64]-5-6-False-radial_flow-6-None-id-10-5-2-64-5e-05-UCE-joint-1e-05-None-None',\n",
       " 'train_losses': [1.777, 1.246, 0.744, 0.383, 0.184],\n",
       " 'val_losses': [1.7926338500976562,\n",
       "  1.2652218170166016,\n",
       "  0.7603096313476563,\n",
       "  0.4001542943318685,\n",
       "  0.2061947987874349],\n",
       " 'train_accuracies': [0.466, 0.718, 0.879, 0.985, 0.993],\n",
       " 'val_accuracies': [0.4597499966621399,\n",
       "  0.7078333497047424,\n",
       "  0.8702499866485596,\n",
       "  0.981416642665863,\n",
       "  0.987416684627533],\n",
       " 'fail_trace': <function seml.evaluation.get_results(db_collection_name, fields=None, to_data_frame=False, mongodb_config=None, states=None, filter_dict=None, parallel=False)>,\n",
       " 'accuracy': array(0.9871),\n",
       " 'confidence_aleatoric_apr': 0.9995727276848918,\n",
       " 'confidence_epistemic_apr': 0.9991063118584147,\n",
       " 'confidence_aleatoric_auroc': 0.9729816964422445,\n",
       " 'confidence_epistemic_auroc': 0.9432069039446063,\n",
       " 'brier_score': array(0.17402564, dtype=float32),\n",
       " 'anomaly_detection_aleatoric_KMNIST_apr': 0.983767939429637,\n",
       " 'anomaly_detection_epistemic_KMNIST_apr': 0.9288896731448921,\n",
       " 'anomaly_detection_aleatoric_KMNIST_auroc': 0.9810466099999999,\n",
       " 'anomaly_detection_epistemic_KMNIST_auroc': 0.8784448749999999,\n",
       " 'anomaly_detection_aleatoric_FMNIST_apr': 0.9743614531079784,\n",
       " 'anomaly_detection_epistemic_FMNIST_apr': 0.9208525822319885,\n",
       " 'anomaly_detection_aleatoric_FMNIST_auroc': 0.9718974800000001,\n",
       " 'anomaly_detection_epistemic_FMNIST_auroc': 0.868807405}"
      ]
     },
     "execution_count": 5,
     "metadata": {},
     "output_type": "execute_result"
    }
   ],
   "source": [
    "results"
   ]
  },
  {
   "cell_type": "markdown",
   "metadata": {},
   "source": [
    "# Randomized Training"
   ]
  },
  {
   "cell_type": "code",
   "execution_count": 8,
   "metadata": {},
   "outputs": [],
   "source": [
    "# Dataset parameters\n",
    "seed_dataset=123\n",
    "dataset_name='MNIST'\n",
    "ood_dataset_names=['KMNIST', 'FMNIST']\n",
    "split=[.8, .2]\n",
    "\n",
    "# Architecture parameters\n",
    "seed_model=123\n",
    "directory_model='../saved-models'\n",
    "architecture='conv'\n",
    "input_dims=[28, 28, 1]\n",
    "output_dim=10\n",
    "hidden_dims=[64, 64, 64]\n",
    "kernel_dim=5\n",
    "latent_dim=6\n",
    "no_density=False\n",
    "density_type='radial_flow'\n",
    "n_density=6\n",
    "k_lipschitz=None\n",
    "budget_function='id'\n",
    "\n",
    "# Training parameters\n",
    "directory_results='../saved-results'\n",
    "max_epochs=10\n",
    "patience=5\n",
    "frequency=2\n",
    "batch_size=64\n",
    "lr=5e-5\n",
    "loss='UCE'\n",
    "training_mode='joint'\n",
    "regr=1e-5\n",
    "adversarial_training = None\n",
    "rs_sigma = .1"
   ]
  },
  {
   "cell_type": "code",
   "execution_count": 9,
   "metadata": {},
   "outputs": [
    {
     "name": "stderr",
     "output_type": "stream",
     "text": [
      "2021-06-08 16:51:18 (INFO): Received the following configuration:\n",
      "2021-06-08 16:51:18 (INFO): DATASET | seed_dataset 123 - dataset_name MNIST - ood_dataset_names ['KMNIST', 'FMNIST'] - split [0.8, 0.2]\n",
      "2021-06-08 16:51:18 (INFO): ARCHITECTURE |  seed_model 123 -  architecture conv -  input_dims [28, 28, 1] -  output_dim 10 -  hidden_dims [64, 64, 64] -  kernel_dim 5 -  latent_dim 6 -  no_density False -  density_type radial_flow -  n_density 6 -  k_lipschitz None -  budget_function id\n",
      "2021-06-08 16:51:18 (INFO): TRAINING |  max_epochs 10 -  patience 5 -  frequency 2 -  batch_size 64 -  lr 5e-05 -  loss UCE -  training_mode joint -  regr 1e-05\n",
      "750it [01:59,  6.28it/s]\n",
      "1it [00:00,  6.59it/s]"
     ]
    },
    {
     "name": "stdout",
     "output_type": "stream",
     "text": [
      "Epoch 0 -> Val loss 1.693 | Val Acc.: 0.497\n",
      "Model saved\n"
     ]
    },
    {
     "name": "stderr",
     "output_type": "stream",
     "text": [
      "750it [01:53,  6.62it/s]\n",
      "750it [01:53,  6.60it/s]\n",
      "0it [00:00, ?it/s]"
     ]
    },
    {
     "name": "stdout",
     "output_type": "stream",
     "text": [
      "Epoch 2 -> Val loss 1.036 | Val Acc.: 0.925\n",
      "Model saved\n"
     ]
    },
    {
     "name": "stderr",
     "output_type": "stream",
     "text": [
      "750it [01:48,  6.91it/s]\n",
      "750it [01:52,  6.64it/s]\n",
      "1it [00:00,  6.08it/s]"
     ]
    },
    {
     "name": "stdout",
     "output_type": "stream",
     "text": [
      "Epoch 4 -> Val loss 0.652 | Val Acc.: 0.934\n",
      "Model saved\n"
     ]
    },
    {
     "name": "stderr",
     "output_type": "stream",
     "text": [
      "750it [01:48,  6.91it/s]\n",
      "750it [01:48,  6.92it/s]\n",
      "0it [00:00, ?it/s]"
     ]
    },
    {
     "name": "stdout",
     "output_type": "stream",
     "text": [
      "Epoch 6 -> Val loss 0.425 | Val Acc.: 0.961\n",
      "Model saved\n"
     ]
    },
    {
     "name": "stderr",
     "output_type": "stream",
     "text": [
      "750it [01:48,  6.90it/s]\n",
      "750it [01:47,  6.96it/s]\n",
      "0it [00:00, ?it/s]"
     ]
    },
    {
     "name": "stdout",
     "output_type": "stream",
     "text": [
      "Epoch 8 -> Val loss 0.218 | Val Acc.: 0.988\n",
      "Model saved\n"
     ]
    },
    {
     "name": "stderr",
     "output_type": "stream",
     "text": [
      "750it [01:46,  7.05it/s]\n"
     ]
    }
   ],
   "source": [
    "results = run(\n",
    "        # Dataset parameters\n",
    "        seed_dataset,  # Seed to shuffle dataset. int\n",
    "        dataset_name,  # Dataset name. string\n",
    "        ood_dataset_names,  # OOD dataset names.  list of strings\n",
    "        split,  # Split for train/val/test sets. list of floats\n",
    "\n",
    "        # Architecture parameters\n",
    "        seed_model,  # Seed to init model. int\n",
    "        directory_model,  # Path to save model. string\n",
    "        architecture,  # Encoder architecture name. string\n",
    "        input_dims,  # Input dimension. List of ints\n",
    "        output_dim,  # Output dimension. int\n",
    "        hidden_dims,  # Hidden dimensions. list of ints\n",
    "        kernel_dim,  # Input dimension. int\n",
    "        latent_dim,  # Latent dimension. int\n",
    "        no_density,  # Use density estimation or not. boolean\n",
    "        density_type,  # Density type. string\n",
    "        n_density,  # Number of density components. int\n",
    "        k_lipschitz,  # Lipschitz constant. float or None (if no lipschitz)\n",
    "        budget_function,  # Budget function name applied on class count. name\n",
    "\n",
    "\n",
    "        # Training parameters\n",
    "        directory_results,  # Path to save resutls. string\n",
    "        max_epochs,  # Maximum number of epochs for training\n",
    "        patience,  # Patience for early stopping. int\n",
    "        frequency,  # Frequency for early stopping test. int\n",
    "        batch_size,  # Batch size. int\n",
    "        lr,  # Learning rate. float\n",
    "        loss,  # Loss name. string\n",
    "        training_mode,  # 'joint' or 'sequential' training. string\n",
    "        regr,  # Regularization factor in Bayesian loss. float\n",
    "\n",
    "        adversarial_training,  # adversarial training\n",
    "        rs_sigma,  # rs training\n",
    ")"
   ]
  },
  {
   "cell_type": "code",
   "execution_count": 10,
   "metadata": {},
   "outputs": [
    {
     "data": {
      "text/plain": [
       "{'model_path': '../saved-models/model-dpn-123-MNIST-[0.8, 0.2]-123-conv-[28, 28, 1]-10-[64, 64, 64]-5-6-False-radial_flow-6-None-id-10-5-2-64-5e-05-UCE-joint-1e-05-None-0.1',\n",
       " 'result_path': '../saved-results/results-dpn-123-MNIST-[0.8, 0.2]-123-conv-[28, 28, 1]-10-[64, 64, 64]-5-6-False-radial_flow-6-None-id-10-5-2-64-5e-05-UCE-joint-1e-05-None-0.1',\n",
       " 'train_losses': [1.687, 1.03, 0.644, 0.415, 0.204],\n",
       " 'val_losses': [1.6925233459472657,\n",
       "  1.0359190266927083,\n",
       "  0.6519003779093424,\n",
       "  0.42548607381184894,\n",
       "  0.2184136085510254],\n",
       " 'train_accuracies': [0.5, 0.929, 0.938, 0.966, 0.99],\n",
       " 'val_accuracies': [0.4970000088214874,\n",
       "  0.925166666507721,\n",
       "  0.934166669845581,\n",
       "  0.9609166383743286,\n",
       "  0.987666666507721],\n",
       " 'fail_trace': <function seml.evaluation.get_results(db_collection_name, fields=None, to_data_frame=False, mongodb_config=None, states=None, filter_dict=None, parallel=False)>,\n",
       " 'accuracy': array(0.9873),\n",
       " 'confidence_aleatoric_apr': 0.9991307678446302,\n",
       " 'confidence_epistemic_apr': 0.998401767291542,\n",
       " 'confidence_aleatoric_auroc': 0.9413480334101354,\n",
       " 'confidence_epistemic_auroc': 0.888266017796089,\n",
       " 'brier_score': array(0.16905722, dtype=float32),\n",
       " 'anomaly_detection_aleatoric_KMNIST_apr': 0.9601431966593462,\n",
       " 'anomaly_detection_epistemic_KMNIST_apr': 0.9295132458220547,\n",
       " 'anomaly_detection_aleatoric_KMNIST_auroc': 0.94808615,\n",
       " 'anomaly_detection_epistemic_KMNIST_auroc': 0.8786808800000001,\n",
       " 'anomaly_detection_aleatoric_FMNIST_apr': 0.9800030746561604,\n",
       " 'anomaly_detection_epistemic_FMNIST_apr': 0.941400078201064,\n",
       " 'anomaly_detection_aleatoric_FMNIST_auroc': 0.9754406350000001,\n",
       " 'anomaly_detection_epistemic_FMNIST_auroc': 0.8900492799999999}"
      ]
     },
     "execution_count": 10,
     "metadata": {},
     "output_type": "execute_result"
    }
   ],
   "source": [
    "results"
   ]
  },
  {
   "cell_type": "markdown",
   "metadata": {},
   "source": [
    "# Adversarial Training"
   ]
  },
  {
   "cell_type": "code",
   "execution_count": null,
   "metadata": {},
   "outputs": [],
   "source": [
    "# Dataset parameters\n",
    "seed_dataset=123\n",
    "dataset_name='MNIST'\n",
    "ood_dataset_names=['KMNIST', 'FMNIST']\n",
    "split=[.8, .2]\n",
    "\n",
    "# Architecture parameters\n",
    "seed_model=123\n",
    "directory_model='../saved-models'\n",
    "architecture='conv'\n",
    "input_dims=[28, 28, 1]\n",
    "output_dim=10\n",
    "hidden_dims=[64, 64, 64]\n",
    "kernel_dim=5\n",
    "latent_dim=6\n",
    "no_density=False\n",
    "density_type='radial_flow'\n",
    "n_density=6\n",
    "k_lipschitz=None\n",
    "budget_function='id'\n",
    "\n",
    "# Training parameters\n",
    "directory_results='../saved-results'\n",
    "max_epochs=10\n",
    "patience=5\n",
    "frequency=2\n",
    "batch_size=64\n",
    "lr=5e-5\n",
    "loss='UCE'\n",
    "training_mode='joint'\n",
    "regr=1e-5\n",
    "adversarial_training = {'shared': {'attack_name': 'PGD_L2',\n",
    "                                   'attack_loss': 'crossentropy',\n",
    "                                   'bounds': [0., 1.],\n",
    "                                   'criterion_params': {'threshold': None,\n",
    "                                                        'start_data': 'in'},\n",
    "                                   'attack_params': {'epsilons': [1.0],\n",
    "                                                     'loss_name': 'crossentropy',\n",
    "                                                     'punished_measure': None,\n",
    "                                                     'data_type': 'in'},\n",
    "                                   'attack_kwargs': {'steps': 5}}}\n",
    "rs_sigma = None"
   ]
  },
  {
   "cell_type": "code",
   "execution_count": null,
   "metadata": {},
   "outputs": [],
   "source": [
    "results = run(\n",
    "        # Dataset parameters\n",
    "        seed_dataset,  # Seed to shuffle dataset. int\n",
    "        dataset_name,  # Dataset name. string\n",
    "        ood_dataset_names,  # OOD dataset names.  list of strings\n",
    "        split,  # Split for train/val/test sets. list of floats\n",
    "\n",
    "        # Architecture parameters\n",
    "        seed_model,  # Seed to init model. int\n",
    "        directory_model,  # Path to save model. string\n",
    "        architecture,  # Encoder architecture name. string\n",
    "        input_dims,  # Input dimension. List of ints\n",
    "        output_dim,  # Output dimension. int\n",
    "        hidden_dims,  # Hidden dimensions. list of ints\n",
    "        kernel_dim,  # Input dimension. int\n",
    "        latent_dim,  # Latent dimension. int\n",
    "        no_density,  # Use density estimation or not. boolean\n",
    "        density_type,  # Density type. string\n",
    "        n_density,  # Number of density components. int\n",
    "        k_lipschitz,  # Lipschitz constant. float or None (if no lipschitz)\n",
    "        budget_function,  # Budget function name applied on class count. name\n",
    "\n",
    "\n",
    "        # Training parameters\n",
    "        directory_results,  # Path to save resutls. string\n",
    "        max_epochs,  # Maximum number of epochs for training\n",
    "        patience,  # Patience for early stopping. int\n",
    "        frequency,  # Frequency for early stopping test. int\n",
    "        batch_size,  # Batch size. int\n",
    "        lr,  # Learning rate. float\n",
    "        loss,  # Loss name. string\n",
    "        training_mode,  # 'joint' or 'sequential' training. string\n",
    "        regr,  # Regularization factor in Bayesian loss. float\n",
    "\n",
    "        adversarial_training,  # adversarial training\n",
    "        rs_sigma,  # rs training\n",
    ")"
   ]
  },
  {
   "cell_type": "code",
   "execution_count": null,
   "metadata": {},
   "outputs": [],
   "source": [
    "results"
   ]
  }
 ],
 "metadata": {
  "kernelspec": {
   "display_name": "Python 3",
   "language": "python",
   "name": "python3"
  },
  "language_info": {
   "codemirror_mode": {
    "name": "ipython",
    "version": 3
   },
   "file_extension": ".py",
   "mimetype": "text/x-python",
   "name": "python",
   "nbconvert_exporter": "python",
   "pygments_lexer": "ipython3",
   "version": "3.6.10"
  }
 },
 "nbformat": 4,
 "nbformat_minor": 4
}
