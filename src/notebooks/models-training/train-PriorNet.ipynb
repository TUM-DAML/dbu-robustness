{
 "cells": [
  {
   "cell_type": "code",
   "execution_count": 1,
   "metadata": {},
   "outputs": [
    {
     "name": "stdout",
     "output_type": "stream",
     "text": [
      "/nfs/homedirs/charpent/dbu-robustness/src/notebooks/models-training\n"
     ]
    }
   ],
   "source": [
    "import torch\n",
    "from src.models.kl_prior_networks.run import run"
   ]
  },
  {
   "cell_type": "code",
   "execution_count": 2,
   "metadata": {},
   "outputs": [
    {
     "name": "stdout",
     "output_type": "stream",
     "text": [
      "CUDA Available:  True\n"
     ]
    }
   ],
   "source": [
    "use_cuda=True\n",
    "print(\"CUDA Available: \",torch.cuda.is_available())\n",
    "device = torch.device(\"cuda\" if (use_cuda and torch.cuda.is_available()) else \"cpu\")"
   ]
  },
  {
   "cell_type": "markdown",
   "metadata": {},
   "source": [
    "# Standard Training"
   ]
  },
  {
   "cell_type": "code",
   "execution_count": 3,
   "metadata": {},
   "outputs": [],
   "source": [
    "# Dataset parameters\n",
    "seed_dataset=123\n",
    "dataset_name='MNIST'\n",
    "ood_dataset_names=['KMNIST', 'FMNIST']\n",
    "split=[.8, .2]\n",
    "\n",
    "# Architecture parameters\n",
    "seed_model=123\n",
    "directory_model='../saved-models'\n",
    "architecture='conv'\n",
    "input_dims=[28, 28, 1]\n",
    "output_dim=10\n",
    "hidden_dims=[64, 64, 64]\n",
    "kernel_dim=5\n",
    "k_lipschitz=None\n",
    "\n",
    "# Training parameters\n",
    "directory_results='../saved-results'\n",
    "max_epochs=10\n",
    "patience=5\n",
    "frequency=2\n",
    "batch_size=64\n",
    "lr=1e-4\n",
    "loss='Reverse_KL_in_out'\n",
    "train_ood_dataset_name='FMNIST'\n",
    "adversarial_training = None\n",
    "rs_sigma = None"
   ]
  },
  {
   "cell_type": "code",
   "execution_count": 4,
   "metadata": {
    "scrolled": false
   },
   "outputs": [
    {
     "name": "stderr",
     "output_type": "stream",
     "text": [
      "2021-06-08 16:30:09 (INFO): Received the following configuration:\n",
      "2021-06-08 16:30:09 (INFO): DATASET | seed_dataset 123 - dataset_name MNIST - ood_dataset_names ['KMNIST', 'FMNIST'] - split [0.8, 0.2]\n",
      "2021-06-08 16:30:09 (INFO): ARCHITECTURE |  seed_model 123 -  architecture conv -  input_dims [28, 28, 1] -  output_dim 10 -  hidden_dims [64, 64, 64] -  kernel_dim 5 -  k_lipschitz None\n",
      "2021-06-08 16:30:09 (INFO): TRAINING |  max_epochs 10 -  patience 5 -  frequency 2 -  batch_size 64 -  lr 0.0001 -  loss Reverse_KL_in_out - train_ood_dataset_name FMNIST\n"
     ]
    },
    {
     "name": "stdout",
     "output_type": "stream",
     "text": [
      "Epoch 0 -> Val loss 32.259 | Val Acc.: 0.929\n",
      "Model saved\n",
      "Model saved\n",
      "Epoch 2 -> Val loss 13.327 | Val Acc.: 0.973\n",
      "Model saved\n",
      "Model saved\n",
      "Epoch 4 -> Val loss 9.091 | Val Acc.: 0.982\n",
      "Model saved\n",
      "Model saved\n",
      "Epoch 6 -> Val loss 7.237 | Val Acc.: 0.985\n",
      "Model saved\n",
      "Model saved\n",
      "Epoch 8 -> Val loss 5.81 | Val Acc.: 0.988\n",
      "Model saved\n",
      "Model saved\n"
     ]
    }
   ],
   "source": [
    "results = run(\n",
    "        # Dataset parameters\n",
    "        seed_dataset,  # Seed to shuffle dataset. int\n",
    "        dataset_name,  # Dataset name. string\n",
    "        ood_dataset_names,  # OOD dataset names.  list of strings\n",
    "        split,  # Split for train/val/test sets. list of floats\n",
    "\n",
    "        # Architecture parameters\n",
    "        seed_model,  # Seed to init model. int\n",
    "        directory_model,  # Path to save model. string\n",
    "        architecture,  # Encoder architecture name. string\n",
    "        input_dims,  # Input dimension. List of ints\n",
    "        output_dim,  # Output dimension. int\n",
    "        hidden_dims,  # Hidden dimensions. list of ints\n",
    "        kernel_dim,  # Input dimension. int\n",
    "        k_lipschitz,  # Lipschitz constant. float or None (if no lipschitz)\n",
    "\n",
    "        # Training parameters\n",
    "        directory_results,  # Path to save resutls. string\n",
    "        max_epochs,  # Maximum number of epochs for training\n",
    "        patience,  # Patience for early stopping. int\n",
    "        frequency,  # Frequency for early stopping test. int\n",
    "        batch_size,  # Batch size. int\n",
    "        lr,  # Learning rate. float\n",
    "        loss,  # Loss name. string\n",
    "        train_ood_dataset_name,  # Other dataset used as OOD for training. string\n",
    "\n",
    "        adversarial_training=None,  # adversarial training\n",
    "        rs_sigma=None,  # rs training\n",
    ")"
   ]
  },
  {
   "cell_type": "code",
   "execution_count": 5,
   "metadata": {},
   "outputs": [
    {
     "data": {
      "text/plain": [
       "{'model_path': '../saved-models/model-klpn-123-MNIST-[0.8, 0.2]-123-conv-[28, 28, 1]-10-[64, 64, 64]-5-None-10-5-2-64-0.0001-Reverse_KL_in_out-FMNIST-None-None',\n",
       " 'result_path': '../saved-results/results-klpn-123-MNIST-[0.8, 0.2]-123-conv-[28, 28, 1]-10-[64, 64, 64]-5-None-10-5-2-64-0.0001-Reverse_KL_in_out-FMNIST-None-None.csv',\n",
       " 'train_losses': [],\n",
       " 'val_losses': [32.2585869140625,\n",
       "  13.327078450520833,\n",
       "  9.091293782552084,\n",
       "  7.237333740234375,\n",
       "  5.809991475423177],\n",
       " 'train_accuracies': [],\n",
       " 'val_accuracies': [0.9290000200271606,\n",
       "  0.9729166626930237,\n",
       "  0.9822499752044678,\n",
       "  0.9852499961853027,\n",
       "  0.9881666898727417],\n",
       " 'fail_trace': <function seml.evaluation.get_results(db_collection_name, fields=None, to_data_frame=False, mongodb_config=None, states=None, filter_dict=None, parallel=False)>,\n",
       " 'accuracy': array(0.9903),\n",
       " 'confidence_aleatoric_apr': 0.9998283145595723,\n",
       " 'confidence_epistemic_apr': 0.9996995027308349,\n",
       " 'confidence_aleatoric_auroc': 0.983007336108708,\n",
       " 'confidence_epistemic_auroc': 0.9718235960986517,\n",
       " 'brier_score': array(0.11029453, dtype=float32),\n",
       " 'anomaly_detection_aleatoric_KMNIST_apr': 0.9691474113807629,\n",
       " 'anomaly_detection_epistemic_KMNIST_apr': 0.9705474866773472,\n",
       " 'anomaly_detection_aleatoric_KMNIST_auroc': 0.9908183122807017,\n",
       " 'anomaly_detection_epistemic_KMNIST_auroc': 0.9932238675438597,\n",
       " 'anomaly_detection_aleatoric_FMNIST_apr': 0.9996816447428389,\n",
       " 'anomaly_detection_epistemic_FMNIST_apr': 0.9999749390300822,\n",
       " 'anomaly_detection_aleatoric_FMNIST_auroc': 0.9999416052631579,\n",
       " 'anomaly_detection_epistemic_FMNIST_auroc': 0.9999956333333333}"
      ]
     },
     "execution_count": 5,
     "metadata": {},
     "output_type": "execute_result"
    }
   ],
   "source": [
    "results"
   ]
  },
  {
   "cell_type": "markdown",
   "metadata": {},
   "source": [
    "# Randomized Training"
   ]
  },
  {
   "cell_type": "code",
   "execution_count": 6,
   "metadata": {},
   "outputs": [],
   "source": [
    "# Dataset parameters\n",
    "seed_dataset=123\n",
    "dataset_name='MNIST'\n",
    "ood_dataset_names=['KMNIST', 'FMNIST']\n",
    "split=[.8, .2]\n",
    "\n",
    "# Architecture parameters\n",
    "seed_model=123\n",
    "directory_model='../saved-models'\n",
    "architecture='conv'\n",
    "input_dims=[28, 28, 1]\n",
    "output_dim=10\n",
    "hidden_dims=[64, 64, 64]\n",
    "kernel_dim=5\n",
    "k_lipschitz=None\n",
    "\n",
    "# Training parameters\n",
    "directory_results='../saved-results'\n",
    "max_epochs=10\n",
    "patience=5\n",
    "frequency=2\n",
    "batch_size=64\n",
    "lr=1e-4\n",
    "loss='Reverse_KL_in_out'\n",
    "train_ood_dataset_name='FMNIST'\n",
    "adversarial_training = None\n",
    "rs_sigma = .1"
   ]
  },
  {
   "cell_type": "code",
   "execution_count": 7,
   "metadata": {},
   "outputs": [
    {
     "name": "stderr",
     "output_type": "stream",
     "text": [
      "2021-06-08 16:35:33 (INFO): Received the following configuration:\n",
      "2021-06-08 16:35:33 (INFO): DATASET | seed_dataset 123 - dataset_name MNIST - ood_dataset_names ['KMNIST', 'FMNIST'] - split [0.8, 0.2]\n",
      "2021-06-08 16:35:33 (INFO): ARCHITECTURE |  seed_model 123 -  architecture conv -  input_dims [28, 28, 1] -  output_dim 10 -  hidden_dims [64, 64, 64] -  kernel_dim 5 -  k_lipschitz None\n",
      "2021-06-08 16:35:33 (INFO): TRAINING |  max_epochs 10 -  patience 5 -  frequency 2 -  batch_size 64 -  lr 0.0001 -  loss Reverse_KL_in_out - train_ood_dataset_name FMNIST\n"
     ]
    },
    {
     "name": "stdout",
     "output_type": "stream",
     "text": [
      "Epoch 0 -> Val loss 30.618 | Val Acc.: 0.938\n",
      "Model saved\n",
      "Model saved\n",
      "Epoch 2 -> Val loss 13.58 | Val Acc.: 0.972\n",
      "Model saved\n",
      "Model saved\n",
      "Epoch 4 -> Val loss 9.44 | Val Acc.: 0.98\n",
      "Model saved\n",
      "Model saved\n",
      "Epoch 6 -> Val loss 7.24 | Val Acc.: 0.983\n",
      "Model saved\n",
      "Model saved\n",
      "Epoch 8 -> Val loss 6.003 | Val Acc.: 0.986\n",
      "Model saved\n",
      "Model saved\n"
     ]
    }
   ],
   "source": [
    "results = run(\n",
    "        # Dataset parameters\n",
    "        seed_dataset,  # Seed to shuffle dataset. int\n",
    "        dataset_name,  # Dataset name. string\n",
    "        ood_dataset_names,  # OOD dataset names.  list of strings\n",
    "        split,  # Split for train/val/test sets. list of floats\n",
    "\n",
    "        # Architecture parameters\n",
    "        seed_model,  # Seed to init model. int\n",
    "        directory_model,  # Path to save model. string\n",
    "        architecture,  # Encoder architecture name. string\n",
    "        input_dims,  # Input dimension. List of ints\n",
    "        output_dim,  # Output dimension. int\n",
    "        hidden_dims,  # Hidden dimensions. list of ints\n",
    "        kernel_dim,  # Input dimension. int\n",
    "        k_lipschitz,  # Lipschitz constant. float or None (if no lipschitz)\n",
    "\n",
    "        # Training parameters\n",
    "        directory_results,  # Path to save resutls. string\n",
    "        max_epochs,  # Maximum number of epochs for training\n",
    "        patience,  # Patience for early stopping. int\n",
    "        frequency,  # Frequency for early stopping test. int\n",
    "        batch_size,  # Batch size. int\n",
    "        lr,  # Learning rate. float\n",
    "        loss,  # Loss name. string\n",
    "        train_ood_dataset_name,  # Other dataset used as OOD for training. string\n",
    "\n",
    "        adversarial_training,  # adversarial training\n",
    "        rs_sigma,  # rs training\n",
    ")"
   ]
  },
  {
   "cell_type": "code",
   "execution_count": 8,
   "metadata": {},
   "outputs": [
    {
     "data": {
      "text/plain": [
       "{'model_path': '../saved-models/model-klpn-123-MNIST-[0.8, 0.2]-123-conv-[28, 28, 1]-10-[64, 64, 64]-5-None-10-5-2-64-0.0001-Reverse_KL_in_out-FMNIST-None-None',\n",
       " 'result_path': '../saved-results/results-klpn-123-MNIST-[0.8, 0.2]-123-conv-[28, 28, 1]-10-[64, 64, 64]-5-None-10-5-2-64-0.0001-Reverse_KL_in_out-FMNIST-None-None.csv',\n",
       " 'train_losses': [],\n",
       " 'val_losses': [30.618004231770833,\n",
       "  13.580275634765625,\n",
       "  9.440028238932292,\n",
       "  7.239995768229167,\n",
       "  6.00278271484375],\n",
       " 'train_accuracies': [],\n",
       " 'val_accuracies': [0.937833309173584,\n",
       "  0.971833348274231,\n",
       "  0.9800833463668823,\n",
       "  0.9834166765213013,\n",
       "  0.9864166378974915],\n",
       " 'fail_trace': <function seml.evaluation.get_results(db_collection_name, fields=None, to_data_frame=False, mongodb_config=None, states=None, filter_dict=None, parallel=False)>,\n",
       " 'accuracy': array(0.9896),\n",
       " 'confidence_aleatoric_apr': 0.9997869000159808,\n",
       " 'confidence_epistemic_apr': 0.9996830116179602,\n",
       " 'confidence_aleatoric_auroc': 0.98026008954667,\n",
       " 'confidence_epistemic_auroc': 0.9712733583110502,\n",
       " 'brier_score': array(0.12097045, dtype=float32),\n",
       " 'anomaly_detection_aleatoric_KMNIST_apr': 0.96218288699435,\n",
       " 'anomaly_detection_epistemic_KMNIST_apr': 0.9578250746488105,\n",
       " 'anomaly_detection_aleatoric_KMNIST_auroc': 0.9894449035087721,\n",
       " 'anomaly_detection_epistemic_KMNIST_auroc': 0.9918251201754387,\n",
       " 'anomaly_detection_aleatoric_FMNIST_apr': 0.9996938868809229,\n",
       " 'anomaly_detection_epistemic_FMNIST_apr': 0.9999678295312247,\n",
       " 'anomaly_detection_aleatoric_FMNIST_auroc': 0.9999436070175439,\n",
       " 'anomaly_detection_epistemic_FMNIST_auroc': 0.9999943771929825}"
      ]
     },
     "execution_count": 8,
     "metadata": {},
     "output_type": "execute_result"
    }
   ],
   "source": [
    "results"
   ]
  },
  {
   "cell_type": "markdown",
   "metadata": {},
   "source": [
    "# Adversarial Training"
   ]
  },
  {
   "cell_type": "code",
   "execution_count": 9,
   "metadata": {},
   "outputs": [],
   "source": [
    "# Dataset parameters\n",
    "seed_dataset=123\n",
    "dataset_name='MNIST'\n",
    "ood_dataset_names=['KMNIST', 'FMNIST']\n",
    "split=[.8, .2]\n",
    "\n",
    "# Architecture parameters\n",
    "seed_model=123\n",
    "directory_model='../saved-models'\n",
    "architecture='conv'\n",
    "input_dims=[28, 28, 1]\n",
    "output_dim=10\n",
    "hidden_dims=[64, 64, 64]\n",
    "kernel_dim=5\n",
    "k_lipschitz=None\n",
    "\n",
    "# Training parameters\n",
    "directory_results='../saved-results'\n",
    "max_epochs=10\n",
    "patience=5\n",
    "frequency=2\n",
    "batch_size=64\n",
    "lr=1e-4\n",
    "loss='Reverse_KL_in_out'\n",
    "train_ood_dataset_name='FMNIST'\n",
    "adversarial_training = {'shared': {'attack_name': 'PGD_L2',\n",
    "                                   'attack_loss': 'crossentropy',\n",
    "                                   'bounds': [0., 1.],\n",
    "                                   'criterion_params': {'threshold': None,\n",
    "                                                        'start_data': 'in'},\n",
    "                                   'attack_params': {'epsilons': [1.0],\n",
    "                                                     'loss_name': 'crossentropy',\n",
    "                                                     'punished_measure': None,\n",
    "                                                     'data_type': 'in'},\n",
    "                                   'attack_kwargs': {'steps': 5}}}\n",
    "rs_sigma = None"
   ]
  },
  {
   "cell_type": "code",
   "execution_count": 10,
   "metadata": {},
   "outputs": [
    {
     "name": "stderr",
     "output_type": "stream",
     "text": [
      "2021-06-08 16:41:05 (INFO): Received the following configuration:\n",
      "2021-06-08 16:41:05 (INFO): DATASET | seed_dataset 123 - dataset_name MNIST - ood_dataset_names ['KMNIST', 'FMNIST'] - split [0.8, 0.2]\n",
      "2021-06-08 16:41:05 (INFO): ARCHITECTURE |  seed_model 123 -  architecture conv -  input_dims [28, 28, 1] -  output_dim 10 -  hidden_dims [64, 64, 64] -  kernel_dim 5 -  k_lipschitz None\n",
      "2021-06-08 16:41:05 (INFO): TRAINING |  max_epochs 10 -  patience 5 -  frequency 2 -  batch_size 64 -  lr 0.0001 -  loss Reverse_KL_in_out - train_ood_dataset_name FMNIST\n"
     ]
    },
    {
     "name": "stdout",
     "output_type": "stream",
     "text": [
      "Epoch 0 -> Val loss 31.751 | Val Acc.: 0.936\n",
      "Model saved\n",
      "Model saved\n",
      "Epoch 2 -> Val loss 13.798 | Val Acc.: 0.972\n",
      "Model saved\n",
      "Model saved\n",
      "Epoch 4 -> Val loss 9.433 | Val Acc.: 0.98\n",
      "Model saved\n",
      "Model saved\n",
      "Epoch 6 -> Val loss 7.227 | Val Acc.: 0.984\n",
      "Model saved\n",
      "Model saved\n",
      "Epoch 8 -> Val loss 5.982 | Val Acc.: 0.987\n",
      "Model saved\n",
      "Model saved\n"
     ]
    }
   ],
   "source": [
    "results = run(\n",
    "        # Dataset parameters\n",
    "        seed_dataset,  # Seed to shuffle dataset. int\n",
    "        dataset_name,  # Dataset name. string\n",
    "        ood_dataset_names,  # OOD dataset names.  list of strings\n",
    "        split,  # Split for train/val/test sets. list of floats\n",
    "\n",
    "        # Architecture parameters\n",
    "        seed_model,  # Seed to init model. int\n",
    "        directory_model,  # Path to save model. string\n",
    "        architecture,  # Encoder architecture name. string\n",
    "        input_dims,  # Input dimension. List of ints\n",
    "        output_dim,  # Output dimension. int\n",
    "        hidden_dims,  # Hidden dimensions. list of ints\n",
    "        kernel_dim,  # Input dimension. int\n",
    "        k_lipschitz,  # Lipschitz constant. float or None (if no lipschitz)\n",
    "\n",
    "        # Training parameters\n",
    "        directory_results,  # Path to save resutls. string\n",
    "        max_epochs,  # Maximum number of epochs for training\n",
    "        patience,  # Patience for early stopping. int\n",
    "        frequency,  # Frequency for early stopping test. int\n",
    "        batch_size,  # Batch size. int\n",
    "        lr,  # Learning rate. float\n",
    "        loss,  # Loss name. string\n",
    "        train_ood_dataset_name,  # Other dataset used as OOD for training. string\n",
    "\n",
    "        adversarial_training,  # adversarial training\n",
    "        rs_sigma,  # rs training\n",
    ")"
   ]
  },
  {
   "cell_type": "code",
   "execution_count": 11,
   "metadata": {},
   "outputs": [
    {
     "data": {
      "text/plain": [
       "{'model_path': '../saved-models/model-klpn-123-MNIST-[0.8, 0.2]-123-conv-[28, 28, 1]-10-[64, 64, 64]-5-None-10-5-2-64-0.0001-Reverse_KL_in_out-FMNIST-None-None',\n",
       " 'result_path': '../saved-results/results-klpn-123-MNIST-[0.8, 0.2]-123-conv-[28, 28, 1]-10-[64, 64, 64]-5-None-10-5-2-64-0.0001-Reverse_KL_in_out-FMNIST-None-None.csv',\n",
       " 'train_losses': [],\n",
       " 'val_losses': [31.750787109375,\n",
       "  13.7976005859375,\n",
       "  9.4329345703125,\n",
       "  7.226934204101562,\n",
       "  5.981847208658854],\n",
       " 'train_accuracies': [],\n",
       " 'val_accuracies': [0.9357500076293945,\n",
       "  0.9715833067893982,\n",
       "  0.9801666736602783,\n",
       "  0.9837499856948853,\n",
       "  0.9866666793823242],\n",
       " 'fail_trace': <function seml.evaluation.get_results(db_collection_name, fields=None, to_data_frame=False, mongodb_config=None, states=None, filter_dict=None, parallel=False)>,\n",
       " 'accuracy': array(0.989),\n",
       " 'confidence_aleatoric_apr': 0.9998085078536949,\n",
       " 'confidence_epistemic_apr': 0.9997142187811666,\n",
       " 'confidence_aleatoric_auroc': 0.9831583785274383,\n",
       " 'confidence_epistemic_auroc': 0.975423292582039,\n",
       " 'brier_score': array(0.11884721, dtype=float32),\n",
       " 'anomaly_detection_aleatoric_KMNIST_apr': 0.9695296507570844,\n",
       " 'anomaly_detection_epistemic_KMNIST_apr': 0.9785495569439373,\n",
       " 'anomaly_detection_aleatoric_KMNIST_auroc': 0.9907999947368421,\n",
       " 'anomaly_detection_epistemic_KMNIST_auroc': 0.9950998666666668,\n",
       " 'anomaly_detection_aleatoric_FMNIST_apr': 0.9997630879799715,\n",
       " 'anomaly_detection_epistemic_FMNIST_apr': 0.9999863819687194,\n",
       " 'anomaly_detection_aleatoric_FMNIST_auroc': 0.9999579789473684,\n",
       " 'anomaly_detection_epistemic_FMNIST_auroc': 0.9999976140350878}"
      ]
     },
     "execution_count": 11,
     "metadata": {},
     "output_type": "execute_result"
    }
   ],
   "source": [
    "results"
   ]
  }
 ],
 "metadata": {
  "kernelspec": {
   "display_name": "Python 3",
   "language": "python",
   "name": "python3"
  },
  "language_info": {
   "codemirror_mode": {
    "name": "ipython",
    "version": 3
   },
   "file_extension": ".py",
   "mimetype": "text/x-python",
   "name": "python",
   "nbconvert_exporter": "python",
   "pygments_lexer": "ipython3",
   "version": "3.6.10"
  }
 },
 "nbformat": 4,
 "nbformat_minor": 4
}
